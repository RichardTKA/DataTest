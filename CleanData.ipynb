{
 "cells": [
  {
   "cell_type": "code",
   "execution_count": 1,
   "metadata": {},
   "outputs": [],
   "source": [
    "import pandas as pd\n",
    "import random\n",
    "\n",
    "from sklearn.impute import KNNImputer"
   ]
  },
  {
   "cell_type": "code",
   "execution_count": 2,
   "metadata": {},
   "outputs": [
    {
     "data": {
      "text/html": [
       "<div>\n",
       "<style scoped>\n",
       "    .dataframe tbody tr th:only-of-type {\n",
       "        vertical-align: middle;\n",
       "    }\n",
       "\n",
       "    .dataframe tbody tr th {\n",
       "        vertical-align: top;\n",
       "    }\n",
       "\n",
       "    .dataframe thead th {\n",
       "        text-align: right;\n",
       "    }\n",
       "</style>\n",
       "<table border=\"1\" class=\"dataframe\">\n",
       "  <thead>\n",
       "    <tr style=\"text-align: right;\">\n",
       "      <th></th>\n",
       "      <th>Unnamed: 0</th>\n",
       "      <th>Client_Name</th>\n",
       "      <th>Client_Description</th>\n",
       "      <th>Revenue</th>\n",
       "      <th>Expenses</th>\n",
       "      <th>Total_Assets</th>\n",
       "      <th>Total_Liabilities</th>\n",
       "      <th>Operating_Cash_Flow</th>\n",
       "      <th>Investments</th>\n",
       "      <th>Debt</th>\n",
       "      <th>Industry</th>\n",
       "      <th>Profit</th>\n",
       "      <th>Equity</th>\n",
       "      <th>Address</th>\n",
       "      <th>Website</th>\n",
       "      <th>Contact_Person</th>\n",
       "      <th>Email</th>\n",
       "    </tr>\n",
       "  </thead>\n",
       "  <tbody>\n",
       "    <tr>\n",
       "      <th>0</th>\n",
       "      <td>0</td>\n",
       "      <td>Quantum Systems</td>\n",
       "      <td>Operations in retail</td>\n",
       "      <td>211193.55</td>\n",
       "      <td>1101594.02</td>\n",
       "      <td>4335149.10</td>\n",
       "      <td>1859964.43</td>\n",
       "      <td>794019.90</td>\n",
       "      <td>1605060.44</td>\n",
       "      <td>1973249.54</td>\n",
       "      <td>Healthcare</td>\n",
       "      <td>-890400.47</td>\n",
       "      <td>2475184.67</td>\n",
       "      <td>123 Elm Street, Sunnydale, FL, 32014</td>\n",
       "      <td>quantumsystems.net</td>\n",
       "      <td>Patricia Williams</td>\n",
       "      <td>patricia.williams@email.com</td>\n",
       "    </tr>\n",
       "    <tr>\n",
       "      <th>1</th>\n",
       "      <td>1</td>\n",
       "      <td>Future Group</td>\n",
       "      <td>Operations in finance</td>\n",
       "      <td>1409138.24</td>\n",
       "      <td>1706054.21</td>\n",
       "      <td>3065987.34</td>\n",
       "      <td>3051435.56</td>\n",
       "      <td>1580695.66</td>\n",
       "      <td>320735.51</td>\n",
       "      <td>1479129.07</td>\n",
       "      <td>Healthcare</td>\n",
       "      <td>-296915.97</td>\n",
       "      <td>14551.78</td>\n",
       "      <td>123 Elm Street, Rivertown, FL, 18964</td>\n",
       "      <td>futuregroup.net</td>\n",
       "      <td>Michael Davis</td>\n",
       "      <td>michael.davis@company.com</td>\n",
       "    </tr>\n",
       "    <tr>\n",
       "      <th>2</th>\n",
       "      <td>2</td>\n",
       "      <td>Green Group</td>\n",
       "      <td>Operations in technology</td>\n",
       "      <td>1565942.17</td>\n",
       "      <td>2050874.25</td>\n",
       "      <td>4472324.11</td>\n",
       "      <td>4249891.27</td>\n",
       "      <td>740335.51</td>\n",
       "      <td>660598.74</td>\n",
       "      <td>2832553.67</td>\n",
       "      <td>Retail</td>\n",
       "      <td>-484932.08</td>\n",
       "      <td>222432.84</td>\n",
       "      <td>123 Elm Street, Sunnydale, FL, 25792</td>\n",
       "      <td>greengroup.co</td>\n",
       "      <td>Patricia Rodriguez</td>\n",
       "      <td>NaN</td>\n",
       "    </tr>\n",
       "    <tr>\n",
       "      <th>3</th>\n",
       "      <td>3</td>\n",
       "      <td>NaN</td>\n",
       "      <td>Operations in finance</td>\n",
       "      <td>4072945.71</td>\n",
       "      <td>2451948.79</td>\n",
       "      <td>NaN</td>\n",
       "      <td>934413.24</td>\n",
       "      <td>1260431.19</td>\n",
       "      <td>2448670.42</td>\n",
       "      <td>3499959.58</td>\n",
       "      <td>Finance</td>\n",
       "      <td>1620996.92</td>\n",
       "      <td>863450.60</td>\n",
       "      <td>123 Cedar Lane, Hilltop, FL, 24703</td>\n",
       "      <td>zenithtechnologies.io</td>\n",
       "      <td>William Garcia</td>\n",
       "      <td>william.garcia@company.com</td>\n",
       "    </tr>\n",
       "    <tr>\n",
       "      <th>4</th>\n",
       "      <td>4</td>\n",
       "      <td>NaN</td>\n",
       "      <td>Operations in retail</td>\n",
       "      <td>NaN</td>\n",
       "      <td>2300823.95</td>\n",
       "      <td>1337366.20</td>\n",
       "      <td>2378513.94</td>\n",
       "      <td>695055.49</td>\n",
       "      <td>939971.85</td>\n",
       "      <td>NaN</td>\n",
       "      <td>NaN</td>\n",
       "      <td>307632.34</td>\n",
       "      <td>-1041147.74</td>\n",
       "      <td>123 Oak Street, Lakeside, NY, 65149</td>\n",
       "      <td>pinnaclemotors.com</td>\n",
       "      <td>James Davis</td>\n",
       "      <td>james.davis@email.com</td>\n",
       "    </tr>\n",
       "  </tbody>\n",
       "</table>\n",
       "</div>"
      ],
      "text/plain": [
       "   Unnamed: 0      Client_Name        Client_Description     Revenue  \\\n",
       "0           0  Quantum Systems      Operations in retail   211193.55   \n",
       "1           1     Future Group     Operations in finance  1409138.24   \n",
       "2           2      Green Group  Operations in technology  1565942.17   \n",
       "3           3              NaN     Operations in finance  4072945.71   \n",
       "4           4              NaN      Operations in retail         NaN   \n",
       "\n",
       "     Expenses  Total_Assets  Total_Liabilities  Operating_Cash_Flow  \\\n",
       "0  1101594.02    4335149.10         1859964.43            794019.90   \n",
       "1  1706054.21    3065987.34         3051435.56           1580695.66   \n",
       "2  2050874.25    4472324.11         4249891.27            740335.51   \n",
       "3  2451948.79           NaN          934413.24           1260431.19   \n",
       "4  2300823.95    1337366.20         2378513.94            695055.49   \n",
       "\n",
       "   Investments        Debt    Industry      Profit      Equity  \\\n",
       "0   1605060.44  1973249.54  Healthcare  -890400.47  2475184.67   \n",
       "1    320735.51  1479129.07  Healthcare  -296915.97    14551.78   \n",
       "2    660598.74  2832553.67      Retail  -484932.08   222432.84   \n",
       "3   2448670.42  3499959.58     Finance  1620996.92   863450.60   \n",
       "4    939971.85         NaN         NaN   307632.34 -1041147.74   \n",
       "\n",
       "                                Address                Website  \\\n",
       "0  123 Elm Street, Sunnydale, FL, 32014     quantumsystems.net   \n",
       "1  123 Elm Street, Rivertown, FL, 18964        futuregroup.net   \n",
       "2  123 Elm Street, Sunnydale, FL, 25792          greengroup.co   \n",
       "3    123 Cedar Lane, Hilltop, FL, 24703  zenithtechnologies.io   \n",
       "4   123 Oak Street, Lakeside, NY, 65149     pinnaclemotors.com   \n",
       "\n",
       "       Contact_Person                        Email  \n",
       "0   Patricia Williams  patricia.williams@email.com  \n",
       "1       Michael Davis    michael.davis@company.com  \n",
       "2  Patricia Rodriguez                          NaN  \n",
       "3      William Garcia   william.garcia@company.com  \n",
       "4         James Davis        james.davis@email.com  "
      ]
     },
     "execution_count": 2,
     "metadata": {},
     "output_type": "execute_result"
    }
   ],
   "source": [
    "data=pd.read_csv('new_data.csv')\n",
    "data.head()"
   ]
  },
  {
   "cell_type": "code",
   "execution_count": 3,
   "metadata": {},
   "outputs": [
    {
     "data": {
      "text/plain": [
       "array(['Unnamed: 0', 'Client_Name', 'Client_Description', 'Revenue',\n",
       "       'Expenses', 'Total_Assets', 'Total_Liabilities',\n",
       "       'Operating_Cash_Flow', 'Investments', 'Debt', 'Industry', 'Profit',\n",
       "       'Equity', 'Address', 'Website', 'Contact_Person', 'Email'],\n",
       "      dtype=object)"
      ]
     },
     "execution_count": 3,
     "metadata": {},
     "output_type": "execute_result"
    }
   ],
   "source": [
    "columns_array = data.columns.to_numpy()\n",
    "columns_array"
   ]
  },
  {
   "cell_type": "code",
   "execution_count": 4,
   "metadata": {},
   "outputs": [
    {
     "data": {
      "text/html": [
       "<div>\n",
       "<style scoped>\n",
       "    .dataframe tbody tr th:only-of-type {\n",
       "        vertical-align: middle;\n",
       "    }\n",
       "\n",
       "    .dataframe tbody tr th {\n",
       "        vertical-align: top;\n",
       "    }\n",
       "\n",
       "    .dataframe thead th {\n",
       "        text-align: right;\n",
       "    }\n",
       "</style>\n",
       "<table border=\"1\" class=\"dataframe\">\n",
       "  <thead>\n",
       "    <tr style=\"text-align: right;\">\n",
       "      <th></th>\n",
       "      <th>Client_Name</th>\n",
       "      <th>Client_Description</th>\n",
       "      <th>Revenue</th>\n",
       "      <th>Expenses</th>\n",
       "      <th>Total_Assets</th>\n",
       "      <th>Total_Liabilities</th>\n",
       "      <th>Operating_Cash_Flow</th>\n",
       "      <th>Investments</th>\n",
       "      <th>Debt</th>\n",
       "      <th>Industry</th>\n",
       "      <th>Profit</th>\n",
       "      <th>Equity</th>\n",
       "    </tr>\n",
       "  </thead>\n",
       "  <tbody>\n",
       "    <tr>\n",
       "      <th>0</th>\n",
       "      <td>Quantum Systems</td>\n",
       "      <td>Operations in retail</td>\n",
       "      <td>211193.55</td>\n",
       "      <td>1101594.02</td>\n",
       "      <td>4335149.10</td>\n",
       "      <td>1859964.43</td>\n",
       "      <td>794019.90</td>\n",
       "      <td>1605060.44</td>\n",
       "      <td>1973249.54</td>\n",
       "      <td>Healthcare</td>\n",
       "      <td>-890400.47</td>\n",
       "      <td>2475184.67</td>\n",
       "    </tr>\n",
       "    <tr>\n",
       "      <th>1</th>\n",
       "      <td>Future Group</td>\n",
       "      <td>Operations in finance</td>\n",
       "      <td>1409138.24</td>\n",
       "      <td>1706054.21</td>\n",
       "      <td>3065987.34</td>\n",
       "      <td>3051435.56</td>\n",
       "      <td>1580695.66</td>\n",
       "      <td>320735.51</td>\n",
       "      <td>1479129.07</td>\n",
       "      <td>Healthcare</td>\n",
       "      <td>-296915.97</td>\n",
       "      <td>14551.78</td>\n",
       "    </tr>\n",
       "    <tr>\n",
       "      <th>2</th>\n",
       "      <td>Green Group</td>\n",
       "      <td>Operations in technology</td>\n",
       "      <td>1565942.17</td>\n",
       "      <td>2050874.25</td>\n",
       "      <td>4472324.11</td>\n",
       "      <td>4249891.27</td>\n",
       "      <td>740335.51</td>\n",
       "      <td>660598.74</td>\n",
       "      <td>2832553.67</td>\n",
       "      <td>Retail</td>\n",
       "      <td>-484932.08</td>\n",
       "      <td>222432.84</td>\n",
       "    </tr>\n",
       "    <tr>\n",
       "      <th>3</th>\n",
       "      <td>NaN</td>\n",
       "      <td>Operations in finance</td>\n",
       "      <td>4072945.71</td>\n",
       "      <td>2451948.79</td>\n",
       "      <td>NaN</td>\n",
       "      <td>934413.24</td>\n",
       "      <td>1260431.19</td>\n",
       "      <td>2448670.42</td>\n",
       "      <td>3499959.58</td>\n",
       "      <td>Finance</td>\n",
       "      <td>1620996.92</td>\n",
       "      <td>863450.60</td>\n",
       "    </tr>\n",
       "    <tr>\n",
       "      <th>4</th>\n",
       "      <td>NaN</td>\n",
       "      <td>Operations in retail</td>\n",
       "      <td>NaN</td>\n",
       "      <td>2300823.95</td>\n",
       "      <td>1337366.20</td>\n",
       "      <td>2378513.94</td>\n",
       "      <td>695055.49</td>\n",
       "      <td>939971.85</td>\n",
       "      <td>NaN</td>\n",
       "      <td>NaN</td>\n",
       "      <td>307632.34</td>\n",
       "      <td>-1041147.74</td>\n",
       "    </tr>\n",
       "  </tbody>\n",
       "</table>\n",
       "</div>"
      ],
      "text/plain": [
       "       Client_Name        Client_Description     Revenue    Expenses  \\\n",
       "0  Quantum Systems      Operations in retail   211193.55  1101594.02   \n",
       "1     Future Group     Operations in finance  1409138.24  1706054.21   \n",
       "2      Green Group  Operations in technology  1565942.17  2050874.25   \n",
       "3              NaN     Operations in finance  4072945.71  2451948.79   \n",
       "4              NaN      Operations in retail         NaN  2300823.95   \n",
       "\n",
       "   Total_Assets  Total_Liabilities  Operating_Cash_Flow  Investments  \\\n",
       "0    4335149.10         1859964.43            794019.90   1605060.44   \n",
       "1    3065987.34         3051435.56           1580695.66    320735.51   \n",
       "2    4472324.11         4249891.27            740335.51    660598.74   \n",
       "3           NaN          934413.24           1260431.19   2448670.42   \n",
       "4    1337366.20         2378513.94            695055.49    939971.85   \n",
       "\n",
       "         Debt    Industry      Profit      Equity  \n",
       "0  1973249.54  Healthcare  -890400.47  2475184.67  \n",
       "1  1479129.07  Healthcare  -296915.97    14551.78  \n",
       "2  2832553.67      Retail  -484932.08   222432.84  \n",
       "3  3499959.58     Finance  1620996.92   863450.60  \n",
       "4         NaN         NaN   307632.34 -1041147.74  "
      ]
     },
     "execution_count": 4,
     "metadata": {},
     "output_type": "execute_result"
    }
   ],
   "source": [
    "data.drop(['Unnamed: 0','Address', 'Website', 'Contact_Person', 'Email'], axis = 1,inplace = True)\n",
    "data.head()"
   ]
  },
  {
   "cell_type": "code",
   "execution_count": 5,
   "metadata": {},
   "outputs": [],
   "source": [
    "columns_to_impute = ['Revenue', 'Expenses', 'Total_Assets', 'Total_Liabilities', 'Operating_Cash_Flow', 'Investments', 'Debt']"
   ]
  },
  {
   "cell_type": "code",
   "execution_count": 6,
   "metadata": {},
   "outputs": [],
   "source": [
    "knn_imputer = KNNImputer(n_neighbors=5)  # You can adjust the number of neighbors as needed"
   ]
  },
  {
   "cell_type": "code",
   "execution_count": 7,
   "metadata": {},
   "outputs": [],
   "source": [
    "data[columns_to_impute] = knn_imputer.fit_transform(data[columns_to_impute])"
   ]
  },
  {
   "cell_type": "code",
   "execution_count": 8,
   "metadata": {},
   "outputs": [
    {
     "data": {
      "text/plain": [
       "Client_Name             998\n",
       "Client_Description      981\n",
       "Revenue                   0\n",
       "Expenses                  0\n",
       "Total_Assets              0\n",
       "Total_Liabilities         0\n",
       "Operating_Cash_Flow       0\n",
       "Investments               0\n",
       "Debt                      0\n",
       "Industry                966\n",
       "Profit                 1023\n",
       "Equity                 1010\n",
       "dtype: int64"
      ]
     },
     "execution_count": 8,
     "metadata": {},
     "output_type": "execute_result"
    }
   ],
   "source": [
    "data.isnull().sum()"
   ]
  },
  {
   "cell_type": "code",
   "execution_count": 9,
   "metadata": {},
   "outputs": [],
   "source": [
    "numerical_columns = ['Revenue', 'Expenses', 'Total_Assets', 'Total_Liabilities', 'Operating_Cash_Flow', 'Investments', 'Debt']"
   ]
  },
  {
   "cell_type": "code",
   "execution_count": 10,
   "metadata": {},
   "outputs": [],
   "source": [
    "data['Profit'] = data['Revenue'] - data['Expenses']\n",
    "data['Equity'] = data['Total_Assets'] - data['Total_Liabilities']"
   ]
  },
  {
   "cell_type": "code",
   "execution_count": 11,
   "metadata": {},
   "outputs": [
    {
     "data": {
      "text/plain": [
       "Client_Name            998\n",
       "Client_Description     981\n",
       "Revenue                  0\n",
       "Expenses                 0\n",
       "Total_Assets             0\n",
       "Total_Liabilities        0\n",
       "Operating_Cash_Flow      0\n",
       "Investments              0\n",
       "Debt                     0\n",
       "Industry               966\n",
       "Profit                   0\n",
       "Equity                   0\n",
       "dtype: int64"
      ]
     },
     "execution_count": 11,
     "metadata": {},
     "output_type": "execute_result"
    }
   ],
   "source": [
    "data.isnull().sum()"
   ]
  },
  {
   "cell_type": "code",
   "execution_count": 12,
   "metadata": {},
   "outputs": [
    {
     "data": {
      "text/plain": [
       "Index(['Client_Name', 'Client_Description', 'Industry'], dtype='object')"
      ]
     },
     "execution_count": 12,
     "metadata": {},
     "output_type": "execute_result"
    }
   ],
   "source": [
    "categorical_columns = data.select_dtypes(exclude='number').columns\n",
    "categorical_columns"
   ]
  },
  {
   "cell_type": "code",
   "execution_count": 13,
   "metadata": {},
   "outputs": [],
   "source": [
    "for column in categorical_columns:\n",
    "    # Define a list of unique values in the current column\n",
    "    unique_values = data[column].unique()\n",
    "\n",
    "    # Check if there are any NaN values in the current column\n",
    "    if data[column].isnull().any():\n",
    "        # Replace NaN values with random values from the list of unique values\n",
    "        data[column].fillna(random.choice(unique_values), inplace=True)\n",
    "    else:\n",
    "        # If there are no NaN values in the column, inform the user\n",
    "        print(f\"No NaN values found in the '{column}' column.\")"
   ]
  },
  {
   "cell_type": "code",
   "execution_count": 14,
   "metadata": {},
   "outputs": [
    {
     "data": {
      "text/plain": [
       "Client_Name            0\n",
       "Client_Description     0\n",
       "Revenue                0\n",
       "Expenses               0\n",
       "Total_Assets           0\n",
       "Total_Liabilities      0\n",
       "Operating_Cash_Flow    0\n",
       "Investments            0\n",
       "Debt                   0\n",
       "Industry               0\n",
       "Profit                 0\n",
       "Equity                 0\n",
       "dtype: int64"
      ]
     },
     "execution_count": 14,
     "metadata": {},
     "output_type": "execute_result"
    }
   ],
   "source": [
    "data.isnull().sum()"
   ]
  },
  {
   "cell_type": "code",
   "execution_count": 15,
   "metadata": {},
   "outputs": [
    {
     "data": {
      "text/html": [
       "<div>\n",
       "<style scoped>\n",
       "    .dataframe tbody tr th:only-of-type {\n",
       "        vertical-align: middle;\n",
       "    }\n",
       "\n",
       "    .dataframe tbody tr th {\n",
       "        vertical-align: top;\n",
       "    }\n",
       "\n",
       "    .dataframe thead th {\n",
       "        text-align: right;\n",
       "    }\n",
       "</style>\n",
       "<table border=\"1\" class=\"dataframe\">\n",
       "  <thead>\n",
       "    <tr style=\"text-align: right;\">\n",
       "      <th></th>\n",
       "      <th>Client_Name</th>\n",
       "      <th>Client_Description</th>\n",
       "      <th>Revenue</th>\n",
       "      <th>Expenses</th>\n",
       "      <th>Total_Assets</th>\n",
       "      <th>Total_Liabilities</th>\n",
       "      <th>Operating_Cash_Flow</th>\n",
       "      <th>Investments</th>\n",
       "      <th>Debt</th>\n",
       "      <th>Industry</th>\n",
       "      <th>Profit</th>\n",
       "      <th>Equity</th>\n",
       "    </tr>\n",
       "  </thead>\n",
       "  <tbody>\n",
       "    <tr>\n",
       "      <th>0</th>\n",
       "      <td>Quantum Systems</td>\n",
       "      <td>Operations in retail</td>\n",
       "      <td>211193.550</td>\n",
       "      <td>1101594.02</td>\n",
       "      <td>4335149.100</td>\n",
       "      <td>1859964.43</td>\n",
       "      <td>794019.90</td>\n",
       "      <td>1605060.44</td>\n",
       "      <td>1973249.540</td>\n",
       "      <td>Healthcare</td>\n",
       "      <td>-890400.470</td>\n",
       "      <td>2475184.670</td>\n",
       "    </tr>\n",
       "    <tr>\n",
       "      <th>1</th>\n",
       "      <td>Future Group</td>\n",
       "      <td>Operations in finance</td>\n",
       "      <td>1409138.240</td>\n",
       "      <td>1706054.21</td>\n",
       "      <td>3065987.340</td>\n",
       "      <td>3051435.56</td>\n",
       "      <td>1580695.66</td>\n",
       "      <td>320735.51</td>\n",
       "      <td>1479129.070</td>\n",
       "      <td>Healthcare</td>\n",
       "      <td>-296915.970</td>\n",
       "      <td>14551.780</td>\n",
       "    </tr>\n",
       "    <tr>\n",
       "      <th>2</th>\n",
       "      <td>Green Group</td>\n",
       "      <td>Operations in technology</td>\n",
       "      <td>1565942.170</td>\n",
       "      <td>2050874.25</td>\n",
       "      <td>4472324.110</td>\n",
       "      <td>4249891.27</td>\n",
       "      <td>740335.51</td>\n",
       "      <td>660598.74</td>\n",
       "      <td>2832553.670</td>\n",
       "      <td>Retail</td>\n",
       "      <td>-484932.080</td>\n",
       "      <td>222432.840</td>\n",
       "    </tr>\n",
       "    <tr>\n",
       "      <th>3</th>\n",
       "      <td>Quantum Technologies</td>\n",
       "      <td>Operations in finance</td>\n",
       "      <td>4072945.710</td>\n",
       "      <td>2451948.79</td>\n",
       "      <td>7311059.538</td>\n",
       "      <td>934413.24</td>\n",
       "      <td>1260431.19</td>\n",
       "      <td>2448670.42</td>\n",
       "      <td>3499959.580</td>\n",
       "      <td>Finance</td>\n",
       "      <td>1620996.920</td>\n",
       "      <td>6376646.298</td>\n",
       "    </tr>\n",
       "    <tr>\n",
       "      <th>4</th>\n",
       "      <td>Quantum Technologies</td>\n",
       "      <td>Operations in retail</td>\n",
       "      <td>1951368.162</td>\n",
       "      <td>2300823.95</td>\n",
       "      <td>1337366.200</td>\n",
       "      <td>2378513.94</td>\n",
       "      <td>695055.49</td>\n",
       "      <td>939971.85</td>\n",
       "      <td>2916427.966</td>\n",
       "      <td>Technology</td>\n",
       "      <td>-349455.788</td>\n",
       "      <td>-1041147.740</td>\n",
       "    </tr>\n",
       "  </tbody>\n",
       "</table>\n",
       "</div>"
      ],
      "text/plain": [
       "            Client_Name        Client_Description      Revenue    Expenses  \\\n",
       "0       Quantum Systems      Operations in retail   211193.550  1101594.02   \n",
       "1          Future Group     Operations in finance  1409138.240  1706054.21   \n",
       "2           Green Group  Operations in technology  1565942.170  2050874.25   \n",
       "3  Quantum Technologies     Operations in finance  4072945.710  2451948.79   \n",
       "4  Quantum Technologies      Operations in retail  1951368.162  2300823.95   \n",
       "\n",
       "   Total_Assets  Total_Liabilities  Operating_Cash_Flow  Investments  \\\n",
       "0   4335149.100         1859964.43            794019.90   1605060.44   \n",
       "1   3065987.340         3051435.56           1580695.66    320735.51   \n",
       "2   4472324.110         4249891.27            740335.51    660598.74   \n",
       "3   7311059.538          934413.24           1260431.19   2448670.42   \n",
       "4   1337366.200         2378513.94            695055.49    939971.85   \n",
       "\n",
       "          Debt    Industry       Profit       Equity  \n",
       "0  1973249.540  Healthcare  -890400.470  2475184.670  \n",
       "1  1479129.070  Healthcare  -296915.970    14551.780  \n",
       "2  2832553.670      Retail  -484932.080   222432.840  \n",
       "3  3499959.580     Finance  1620996.920  6376646.298  \n",
       "4  2916427.966  Technology  -349455.788 -1041147.740  "
      ]
     },
     "execution_count": 15,
     "metadata": {},
     "output_type": "execute_result"
    }
   ],
   "source": [
    "data.head()"
   ]
  },
  {
   "cell_type": "code",
   "execution_count": 16,
   "metadata": {},
   "outputs": [],
   "source": [
    "data.to_csv('finaldata.csv')"
   ]
  },
  {
   "cell_type": "code",
   "execution_count": null,
   "metadata": {},
   "outputs": [],
   "source": []
  },
  {
   "cell_type": "code",
   "execution_count": null,
   "metadata": {},
   "outputs": [],
   "source": []
  },
  {
   "cell_type": "code",
   "execution_count": null,
   "metadata": {},
   "outputs": [],
   "source": []
  },
  {
   "cell_type": "code",
   "execution_count": null,
   "metadata": {},
   "outputs": [],
   "source": []
  },
  {
   "cell_type": "code",
   "execution_count": null,
   "metadata": {},
   "outputs": [],
   "source": []
  },
  {
   "cell_type": "code",
   "execution_count": null,
   "metadata": {},
   "outputs": [],
   "source": []
  },
  {
   "cell_type": "code",
   "execution_count": null,
   "metadata": {},
   "outputs": [],
   "source": []
  },
  {
   "cell_type": "code",
   "execution_count": null,
   "metadata": {},
   "outputs": [],
   "source": []
  },
  {
   "cell_type": "code",
   "execution_count": null,
   "metadata": {},
   "outputs": [],
   "source": []
  },
  {
   "cell_type": "code",
   "execution_count": null,
   "metadata": {},
   "outputs": [],
   "source": []
  },
  {
   "cell_type": "code",
   "execution_count": null,
   "metadata": {},
   "outputs": [],
   "source": []
  },
  {
   "cell_type": "code",
   "execution_count": null,
   "metadata": {},
   "outputs": [],
   "source": []
  },
  {
   "cell_type": "code",
   "execution_count": null,
   "metadata": {},
   "outputs": [],
   "source": []
  },
  {
   "cell_type": "code",
   "execution_count": null,
   "metadata": {},
   "outputs": [],
   "source": []
  },
  {
   "cell_type": "code",
   "execution_count": null,
   "metadata": {},
   "outputs": [],
   "source": []
  },
  {
   "cell_type": "code",
   "execution_count": null,
   "metadata": {},
   "outputs": [],
   "source": []
  }
 ],
 "metadata": {
  "kernelspec": {
   "display_name": "Python 3",
   "language": "python",
   "name": "python3"
  },
  "language_info": {
   "codemirror_mode": {
    "name": "ipython",
    "version": 3
   },
   "file_extension": ".py",
   "mimetype": "text/x-python",
   "name": "python",
   "nbconvert_exporter": "python",
   "pygments_lexer": "ipython3",
   "version": "3.11.6"
  }
 },
 "nbformat": 4,
 "nbformat_minor": 2
}
